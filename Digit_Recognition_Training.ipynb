{
 "cells": [
  {
   "cell_type": "markdown",
   "metadata": {},
   "source": [
    "# Handwritten Digit Recognition Model Training"
   ]
  },
  {
   "cell_type": "markdown",
   "metadata": {},
   "source": [
    " "
   ]
  },
  {
   "cell_type": "code",
   "execution_count": 1,
   "metadata": {
    "colab": {
     "base_uri": "https://localhost:8080/",
     "height": 84
    },
    "colab_type": "code",
    "id": "oEmYBRrTgXR7",
    "outputId": "744f355f-9edb-4445-9f6d-ebdc12a9a95c"
   },
   "outputs": [],
   "source": [
    "# Import required Libraries:\n",
    "\n",
    "import numpy as np\n",
    "import matplotlib.pyplot as plt\n",
    "import tensorflow as tf"
   ]
  },
  {
   "cell_type": "code",
   "execution_count": 2,
   "metadata": {
    "colab": {
     "base_uri": "https://localhost:8080/",
     "height": 84
    },
    "colab_type": "code",
    "id": "EQpSONdtgXSC",
    "outputId": "9a58f67e-93b6-4436-a1ba-b3b11b49025a"
   },
   "outputs": [],
   "source": [
    "# Import the MNIST Dataset:\n",
    "\n",
    "mnist = tf.keras.datasets.mnist\n",
    "(x_train, y_train), (x_test, y_test) = mnist.load_data()\n",
    "x_train, x_test = x_train / 255.0, x_test / 255.0"
   ]
  },
  {
   "cell_type": "code",
   "execution_count": 3,
   "metadata": {
    "colab": {
     "base_uri": "https://localhost:8080/",
     "height": 202
    },
    "colab_type": "code",
    "id": "H19m6mHVgXSF",
    "outputId": "61110bc4-807c-455e-fef9-0781bfa77027"
   },
   "outputs": [
    {
     "name": "stdout",
     "output_type": "stream",
     "text": [
      "Shape of Training Dataset: (60000, 28, 28)\n",
      "Shape of Training Dataset Labels: (60000,)\n",
      "Shape of Test Dataset: (10000, 28, 28)\n",
      "Shape of Test Dataset Labels: (10000,)\n"
     ]
    }
   ],
   "source": [
    "# Printing the shapes of both Training & Testing Datasets as well as their Labels:\n",
    "\n",
    "print(\"Shape of Training Dataset:\", x_train.shape)\n",
    "print(\"Shape of Training Dataset Labels:\", y_train.shape)\n",
    "print(\"Shape of Test Dataset:\", x_test.shape)\n",
    "print(\"Shape of Test Dataset Labels:\", y_test.shape)"
   ]
  },
  {
   "cell_type": "code",
   "execution_count": 4,
   "metadata": {
    "colab": {
     "base_uri": "https://localhost:8080/",
     "height": 152
    },
    "colab_type": "code",
    "id": "D7smPoL0gXSI",
    "outputId": "baf3712c-cbc3-433c-e67b-08c6aa25dd38"
   },
   "outputs": [
    {
     "name": "stdout",
     "output_type": "stream",
     "text": [
      "[5 0 4 1 9]\n"
     ]
    },
    {
     "data": {
      "text/plain": [
       "<matplotlib.image.AxesImage at 0x7fa62e83c7f0>"
      ]
     },
     "execution_count": 4,
     "metadata": {},
     "output_type": "execute_result"
    },
    {
     "data": {
      "image/png": "[encoded data removed]",
      "text/plain": [
       "<Figure size 432x288 with 1 Axes>"
      ]
     },
     "metadata": {
      "needs_background": "light"
     },
     "output_type": "display_data"
    }
   ],
   "source": [
    "# Print the labels of the first 5 digits present in the Taining dataset:\n",
    "\n",
    "nb_images = 5\n",
    "print(y_train[:nb_images])\n",
    "\n",
    "# Also, Let's see the images of first 5 digits present in the Taining dataset:\n",
    "\n",
    "train_images = np.hstack(x_train[:nb_images])\n",
    "plt.imshow(train_images, cmap='Greys')"
   ]
  },
  {
   "cell_type": "code",
   "execution_count": 5,
   "metadata": {
    "colab": {
     "base_uri": "https://localhost:8080/",
     "height": 336
    },
    "colab_type": "code",
    "id": "Hbg5mRTxgXSR",
    "outputId": "69bb41a3-da8a-4022-9190-737b1a0dd242"
   },
   "outputs": [
    {
     "name": "stdout",
     "output_type": "stream",
     "text": [
      "Model: \"sequential\"\n",
      "_________________________________________________________________\n",
      "Layer (type)                 Output Shape              Param #   \n",
      "=================================================================\n",
      "flatten (Flatten)            (None, 784)               0         \n",
      "_________________________________________________________________\n",
      "dense (Dense)                (None, 128)               100480    \n",
      "_________________________________________________________________\n",
      "dropout (Dropout)            (None, 128)               0         \n",
      "_________________________________________________________________\n",
      "dense_1 (Dense)              (None, 10)                1290      \n",
      "_________________________________________________________________\n",
      "softmax (Softmax)            (None, 10)                0         \n",
      "=================================================================\n",
      "Total params: 101,770\n",
      "Trainable params: 101,770\n",
      "Non-trainable params: 0\n",
      "_________________________________________________________________\n",
      "None\n"
     ]
    }
   ],
   "source": [
    "# Now, we will create a Neural Network model and define the layers of our model:\n",
    "\n",
    "model = tf.keras.models.Sequential([\n",
    "  tf.keras.layers.Flatten(input_shape=(28, 28)),\n",
    "  tf.keras.layers.Dense(128, activation='relu'),\n",
    "  tf.keras.layers.Dropout(0.2),\n",
    "  tf.keras.layers.Dense(10),\n",
    "  tf.keras.layers.Softmax()\n",
    "])\n",
    "\n",
    "# Print the summary of the model:\n",
    "\n",
    "print(model.summary())"
   ]
  },
  {
   "cell_type": "code",
   "execution_count": 6,
   "metadata": {
    "colab": {
     "base_uri": "https://localhost:8080/",
     "height": 50
    },
    "colab_type": "code",
    "id": "SxeplOb0gXSY",
    "outputId": "dc4a3594-552c-4e6a-d799-41f89f01a338"
   },
   "outputs": [],
   "source": [
    "# Defining of Loss Function for our model:\n",
    "\n",
    "loss_fn = tf.keras.losses.SparseCategoricalCrossentropy(from_logits=True) "
   ]
  },
  {
   "cell_type": "code",
   "execution_count": 7,
   "metadata": {
    "colab": {
     "base_uri": "https://localhost:8080/",
     "height": 50
    },
    "colab_type": "code",
    "id": "VgVCr-DGgXSd",
    "outputId": "28215936-ae71-49fe-9a7b-5be316974882"
   },
   "outputs": [],
   "source": [
    "# Compile our model:\n",
    "\n",
    "model.compile(optimizer='adam', loss=loss_fn, metrics=['accuracy'])"
   ]
  },
  {
   "cell_type": "code",
   "execution_count": 8,
   "metadata": {
    "colab": {
     "base_uri": "https://localhost:8080/",
     "height": 386
    },
    "colab_type": "code",
    "id": "c6VvJVxIgXSi",
    "outputId": "f303f645-d8aa-4307-e738-4fc837f7f5d1"
   },
   "outputs": [
    {
     "name": "stdout",
     "output_type": "stream",
     "text": [
      "Train on 48000 samples, validate on 12000 samples\n",
      "Epoch 1/10\n",
      "48000/48000 [==============================] - 2s 32us/sample - loss: 1.6915 - accuracy: 0.8176 - val_loss: 1.5610 - val_accuracy: 0.9172\n",
      "Epoch 2/10\n",
      "48000/48000 [==============================] - 1s 13us/sample - loss: 1.5635 - accuracy: 0.9139 - val_loss: 1.5379 - val_accuracy: 0.9351\n",
      "Epoch 3/10\n",
      "48000/48000 [==============================] - 1s 13us/sample - loss: 1.5428 - accuracy: 0.9300 - val_loss: 1.5285 - val_accuracy: 0.9413\n",
      "Epoch 4/10\n",
      "48000/48000 [==============================] - 1s 14us/sample - loss: 1.5317 - accuracy: 0.9389 - val_loss: 1.5186 - val_accuracy: 0.9503\n",
      "Epoch 5/10\n",
      "48000/48000 [==============================] - 1s 12us/sample - loss: 1.5235 - accuracy: 0.9458 - val_loss: 1.5128 - val_accuracy: 0.9554\n",
      "Epoch 6/10\n",
      "48000/48000 [==============================] - 1s 13us/sample - loss: 1.5172 - accuracy: 0.9511 - val_loss: 1.5087 - val_accuracy: 0.9581\n",
      "Epoch 7/10\n",
      "48000/48000 [==============================] - 1s 13us/sample - loss: 1.5125 - accuracy: 0.9556 - val_loss: 1.5061 - val_accuracy: 0.9607\n",
      "Epoch 8/10\n",
      "48000/48000 [==============================] - 1s 13us/sample - loss: 1.5078 - accuracy: 0.9597 - val_loss: 1.5051 - val_accuracy: 0.9597\n",
      "Epoch 9/10\n",
      "48000/48000 [==============================] - 1s 13us/sample - loss: 1.5042 - accuracy: 0.9625 - val_loss: 1.5023 - val_accuracy: 0.9623\n",
      "Epoch 10/10\n",
      "48000/48000 [==============================] - 1s 13us/sample - loss: 1.5019 - accuracy: 0.9643 - val_loss: 1.4999 - val_accuracy: 0.9650\n"
     ]
    }
   ],
   "source": [
    "# Training of our model:\n",
    "\n",
    "hist = model.fit(x_train, y_train, epochs=10, shuffle=True, batch_size=256, validation_split=0.20)"
   ]
  },
  {
   "cell_type": "code",
   "execution_count": 9,
   "metadata": {
    "colab": {
     "base_uri": "https://localhost:8080/",
     "height": 265
    },
    "colab_type": "code",
    "id": "sV-VHKh5jWuH",
    "outputId": "e710ce0c-d658-442f-daf3-19fbea372a64"
   },
   "outputs": [
    {
     "data": {
      "image/png": "[encoded data removed]",
      "text/plain": [
       "<Figure size 432x288 with 1 Axes>"
      ]
     },
     "metadata": {
      "needs_background": "light"
     },
     "output_type": "display_data"
    }
   ],
   "source": [
    "# Plotting of the graphs of Loss & Accuracy of both the Training as well as Validation:\n",
    "\n",
    "plt.figure(0)\n",
    "plt.plot(hist.history['loss'], 'g')\n",
    "plt.plot(hist.history['val_loss'], 'b')\n",
    "plt.plot(hist.history['accuracy'], 'r')\n",
    "plt.plot(hist.history['val_accuracy'], 'black')\n",
    "plt.show()"
   ]
  },
  {
   "cell_type": "code",
   "execution_count": 10,
   "metadata": {},
   "outputs": [
    {
     "name": "stdout",
     "output_type": "stream",
     "text": [
      "10000/1 - 0s - loss: 1.4809 - accuracy: 0.9666\n"
     ]
    },
    {
     "data": {
      "text/plain": [
       "[1.4987483066558838, 0.9666]"
      ]
     },
     "execution_count": 10,
     "metadata": {},
     "output_type": "execute_result"
    }
   ],
   "source": [
    "# Checking the model's performance on the Test Dataset:\n",
    "\n",
    "model.evaluate(x_test,  y_test, verbose=2)"
   ]
  },
  {
   "cell_type": "code",
   "execution_count": 11,
   "metadata": {},
   "outputs": [
    {
     "name": "stdout",
     "output_type": "stream",
     "text": [
      "WARNING:tensorflow:From /opt/app-root/lib/python3.6/site-packages/tensorflow_core/python/ops/resource_variable_ops.py:1781: calling BaseResourceVariable.__init__ (from tensorflow.python.ops.resource_variable_ops) with constraint is deprecated and will be removed in a future version.\n",
      "Instructions for updating:\n",
      "If using Keras pass *_constraint arguments to layers.\n",
      "INFO:tensorflow:Assets written to: my_mnist_model/assets\n"
     ]
    }
   ],
   "source": [
    "# Saving the model:\n",
    "\n",
    "model.save('my_mnist_model')"
   ]
  },
  {
   "cell_type": "code",
   "execution_count": 12,
   "metadata": {},
   "outputs": [
    {
     "name": "stdout",
     "output_type": "stream",
     "text": [
      "(1, 28, 28)\n"
     ]
    }
   ],
   "source": [
    "print(x_train[:1].shape)"
   ]
  },
  {
   "cell_type": "code",
   "execution_count": 13,
   "metadata": {},
   "outputs": [
    {
     "data": {
      "text/plain": [
       "array([[8.6239737e-08, 2.3835590e-11, 5.0094275e-08, 1.0621590e-03,\n",
       "        7.5798615e-15, 9.9893767e-01, 2.3644222e-12, 3.6226275e-09,\n",
       "        9.7094344e-10, 1.3533512e-10]], dtype=float32)"
      ]
     },
     "execution_count": 13,
     "metadata": {},
     "output_type": "execute_result"
    }
   ],
   "source": [
    "\n",
    "model.predict(x_train[:1])"
   ]
  },
  {
   "cell_type": "code",
   "execution_count": 14,
   "metadata": {},
   "outputs": [
    {
     "data": {
      "text/plain": [
       "5"
      ]
     },
     "execution_count": 14,
     "metadata": {},
     "output_type": "execute_result"
    }
   ],
   "source": [
    "np.argmax(model.predict(x_train[:1]))"
   ]
  },
  {
   "cell_type": "markdown",
   "metadata": {},
   "source": [
    " "
   ]
  },
  {
   "cell_type": "markdown",
   "metadata": {},
   "source": [
    " "
   ]
  },
  {
   "cell_type": "markdown",
   "metadata": {},
   "source": [
    " "
   ]
  },
  {
   "cell_type": "markdown",
   "metadata": {},
   "source": [
    " "
   ]
  },
  {
   "cell_type": "markdown",
   "metadata": {},
   "source": [
    " "
   ]
  }
 ],
 "metadata": {
  "accelerator": "GPU",
  "colab": {
   "name": "modified_sample_notebooks_tensorflow_s3.ipynb",
   "provenance": [],
   "toc_visible": true
  },
  "kernelspec": {
   "display_name": "Python 3",
   "language": "python",
   "name": "python3"
  },
  "language_info": {
   "codemirror_mode": {
    "name": "ipython",
    "version": 3
   },
   "file_extension": ".py",
   "mimetype": "text/x-python",
   "name": "python",
   "nbconvert_exporter": "python",
   "pygments_lexer": "ipython3",
   "version": "3.8.3"
  }
 },
 "nbformat": 4,
 "nbformat_minor": 4
}
