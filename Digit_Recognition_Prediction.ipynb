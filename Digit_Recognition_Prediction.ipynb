{
 "cells": [
  {
   "cell_type": "markdown",
   "metadata": {},
   "source": [
    "# Hand-Written Digit Recognition"
   ]
  },
  {
   "cell_type": "code",
   "execution_count": 1,
   "metadata": {},
   "outputs": [],
   "source": [
    "import cv2 as cv\n",
    "import os\n",
    "from sklearn.externals import joblib\n",
    "import numpy as np\n",
    "import pandas as pd\n",
    "import matplotlib.pyplot as plt"
   ]
  },
  {
   "cell_type": "code",
   "execution_count": 2,
   "metadata": {},
   "outputs": [
    {
     "name": "stderr",
     "output_type": "stream",
     "text": [
      "Using TensorFlow backend.\n"
     ]
    }
   ],
   "source": [
    "clf, preproc = joblib.load('./mnist.pkl')"
   ]
  },
  {
   "cell_type": "code",
   "execution_count": 3,
   "metadata": {},
   "outputs": [],
   "source": [
    "img = cv.imread('./8.jpg')\n",
    "cv.imshow('Original', img)\n",
    "img_gray = cv.cvtColor(img, cv.COLOR_RGB2GRAY)\n",
    "cv.imshow('Grayscaled', img_gray)\n",
    "img_inverted = cv.bitwise_not(img_gray)\n",
    "cv.imshow('Inverted', img_inverted)\n",
    "newimg = cv.resize(img_inverted, (28, 28))\n",
    "cv.imshow('Resized', newimg)\n",
    "cv.waitKey(0) \n",
    "cv.destroyAllWindows()"
   ]
  },
  {
   "cell_type": "code",
   "execution_count": 4,
   "metadata": {},
   "outputs": [
    {
     "name": "stdout",
     "output_type": "stream",
     "text": [
      "(28, 28)\n",
      "(1, 28, 28, 1)\n"
     ]
    }
   ],
   "source": [
    "image = np.asarray(newimg)\n",
    "print(image.shape)\n",
    "image_r = image.reshape((1, 28, 28, 1))\n",
    "print(image_r.shape)"
   ]
  },
  {
   "cell_type": "code",
   "execution_count": 5,
   "metadata": {},
   "outputs": [
    {
     "name": "stdout",
     "output_type": "stream",
     "text": [
      "No. Present in Image:  8\n"
     ]
    }
   ],
   "source": [
    "pred = np.argmax(clf.predict(image_r))\n",
    "print(\"No. Present in Image: \", str(pred))"
   ]
  },
  {
   "cell_type": "markdown",
   "metadata": {},
   "source": [
    "## Adding Padding to convert image to square image"
   ]
  },
  {
   "cell_type": "code",
   "execution_count": 6,
   "metadata": {},
   "outputs": [
    {
     "name": "stdout",
     "output_type": "stream",
     "text": [
      "Shape before padding:  (225, 225, 3)\n",
      "Height before padding:  225\n",
      "Width before padding:  225\n",
      "Shape after padding:  (225, 225, 3)\n",
      "Array Shape:  (28, 28)\n",
      "Array Shape after Reshaping:  (1, 28, 28, 1)\n",
      "No. Present in Image:  8\n"
     ]
    }
   ],
   "source": [
    "new_img = cv.imread('/media/rishi/Local Disk/handwritten_digit_recognition/8.jpg')\n",
    "# cv.imshow('Original', new_img)\n",
    "print(\"Shape before padding: \", new_img.shape)\n",
    "height = new_img.shape[0]\n",
    "width = new_img.shape[1]\n",
    "print(\"Height before padding: \", height)\n",
    "print(\"Width before padding: \", width)\n",
    "\n",
    "if width >= height:\n",
    "    if (width-height)%2 == 0:\n",
    "        padding = cv.copyMakeBorder(new_img, int((width-height)/2), int((width-height)/2), 0, 0, cv.BORDER_CONSTANT,value=(255, 255, 255))\n",
    "    else:\n",
    "        padding = cv.copyMakeBorder(new_img, int((width-height)/2), int((width-height)/2)+1, 0, 0, cv.BORDER_CONSTANT,value=(255, 255, 255))\n",
    "else:\n",
    "    if (height-width)%2 == 0:\n",
    "        padding = cv.copyMakeBorder(new_img, 0, 0, int((height-width)/2), int((height-width)/2), cv.BORDER_CONSTANT,value=(255, 255, 255))\n",
    "    else:\n",
    "        padding = cv.copyMakeBorder(new_img, 0, 0, int((height-width)/2)+1, int((height-width)/2), cv.BORDER_CONSTANT,value=(255, 255, 255))\n",
    "print(\"Shape after padding: \", padding.shape)\n",
    "# cv.imshow(\"Padded Image\", padding)\n",
    "\n",
    "img_gray = cv.cvtColor(padding, cv.COLOR_RGB2GRAY)\n",
    "# cv.imshow('Grayscaled', img_gray)\n",
    "img_inverted = cv.bitwise_not(img_gray)\n",
    "# cv.imshow('Inverted', img_inverted)\n",
    "newimg = cv.resize(img_inverted, (28, 28))\n",
    "# cv.imshow('Resized', newimg)\n",
    "\n",
    "image = np.asarray(newimg)\n",
    "print(\"Array Shape: \", image.shape)\n",
    "image_r = image.reshape((1, 28, 28, 1))\n",
    "print(\"Array Shape after Reshaping: \", image_r.shape)\n",
    "\n",
    "pred = np.argmax(clf.predict(image_r))\n",
    "print(\"No. Present in Image: \", str(pred))\n",
    "\n",
    "cv.waitKey(0) \n",
    "cv.destroyAllWindows()"
   ]
  },
  {
   "cell_type": "code",
   "execution_count": null,
   "metadata": {},
   "outputs": [],
   "source": []
  },
  {
   "cell_type": "code",
   "execution_count": null,
   "metadata": {},
   "outputs": [],
   "source": []
  },
  {
   "cell_type": "code",
   "execution_count": null,
   "metadata": {},
   "outputs": [],
   "source": []
  },
  {
   "cell_type": "code",
   "execution_count": null,
   "metadata": {},
   "outputs": [],
   "source": []
  }
 ],
 "metadata": {
  "kernelspec": {
   "display_name": "Python 3",
   "language": "python",
   "name": "python3"
  },
  "language_info": {
   "codemirror_mode": {
    "name": "ipython",
    "version": 3
   },
   "file_extension": ".py",
   "mimetype": "text/x-python",
   "name": "python",
   "nbconvert_exporter": "python",
   "pygments_lexer": "ipython3",
   "version": "3.5.2"
  }
 },
 "nbformat": 4,
 "nbformat_minor": 2
}
